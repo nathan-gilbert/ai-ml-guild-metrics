{
 "cells": [
  {
   "cell_type": "markdown",
   "source": [
    "# Machine Learning Metrics\n",
    "\n",
    "## Determining Model Accuracy\n",
    "\n",
    "It's very common to train a variety of models, apply each to held out sample and\n",
    "score the results. Sometimes, a third hold set is used to test a model on\n",
    "_completely_ new data. Typically, these 2 hold out sets are called the\n",
    "_validation_ and _test_ sets respectively. In order to evaluate a model, a\n",
    "suitable metric for the dataset needs to be selected.\n",
    "\n",
    "Datasets with rare occurring labellings can produce misleading model performance\n",
    "if a less nuanced metric is chosen to measure it.\n",
    "\n",
    "### Accuracy"
   ],
   "metadata": {
    "collapsed": false,
    "pycharm": {
     "name": "#%% md\n"
    }
   }
  },
  {
   "cell_type": "code",
   "execution_count": null,
   "outputs": [],
   "source": [
    "import numpy as np\n",
    "from sklearn.naive_bayes import GaussianNB\n",
    "from sklearn.metrics import accuracy_score\n",
    "\n",
    "# Simple synthetic data\n",
    "training_points = [[-1, -1], [-2, -1], [-3, -2], [1, 1], [2, 1], [3, 2]]\n",
    "training_labels = [1, 1, 1, 2, 2, 2]\n",
    "X = np.array(training_points)\n",
    "Y = np.array(training_labels)\n",
    "\n",
    "# Gaussian Naive Bayes classifier\n",
    "gnb = GaussianNB()\n",
    "gnb.fit(X, Y)\n",
    "\n",
    "# Classify test data with the classifier\n",
    "test_points = [[1, 1], [2, 2], [3, 3], [4, 3]]\n",
    "test_labels = [2, 2, 2, 1]\n",
    "predicts = gnb.predict(test_points)\n",
    "\n",
    "count = len([True for idx, label in enumerate(test_labels) if label == predicts[idx]])\n",
    "print(\"Accuracy Rate (manually calculated): %f\" % (float(count) / len(test_labels)))\n",
    "print(\"Accuracy Rate (via accuracy_score()): %f\" % accuracy_score(test_labels, predicts))"
   ],
   "metadata": {
    "collapsed": false,
    "pycharm": {
     "name": "#%%\n"
    }
   }
  },
  {
   "cell_type": "markdown",
   "source": [
    "### Recall & Precision"
   ],
   "metadata": {
    "collapsed": false
   }
  },
  {
   "cell_type": "code",
   "execution_count": null,
   "outputs": [],
   "source": [],
   "metadata": {
    "collapsed": false,
    "pycharm": {
     "name": "#%%\n"
    }
   }
  },
  {
   "cell_type": "markdown",
   "source": [
    "\n",
    "### Confusion Matrix"
   ],
   "metadata": {
    "collapsed": false
   }
  },
  {
   "cell_type": "code",
   "execution_count": null,
   "outputs": [],
   "source": [],
   "metadata": {
    "collapsed": false,
    "pycharm": {
     "name": "#%%\n"
    }
   }
  },
  {
   "cell_type": "markdown",
   "source": [
    "\n",
    "### ROC & AUC"
   ],
   "metadata": {
    "collapsed": false
   }
  },
  {
   "cell_type": "code",
   "execution_count": null,
   "outputs": [],
   "source": [],
   "metadata": {
    "collapsed": false,
    "pycharm": {
     "name": "#%%\n"
    }
   }
  },
  {
   "cell_type": "markdown",
   "source": [
    "## Problem-Specific Metrics\n",
    "\n",
    "### ROUGE & BLEU\n",
    "\n",
    "### Clustering\n",
    "\n",
    "### Question Answering"
   ],
   "metadata": {
    "collapsed": false
   }
  },
  {
   "cell_type": "markdown",
   "metadata": {
    "collapsed": true,
    "pycharm": {
     "name": "#%% md\n"
    }
   },
   "source": []
  }
 ],
 "metadata": {
  "kernelspec": {
   "display_name": "Python 3",
   "language": "python",
   "name": "python3"
  },
  "language_info": {
   "codemirror_mode": {
    "name": "ipython",
    "version": 2
   },
   "file_extension": ".py",
   "mimetype": "text/x-python",
   "name": "python",
   "nbconvert_exporter": "python",
   "pygments_lexer": "ipython2",
   "version": "2.7.6"
  }
 },
 "nbformat": 4,
 "nbformat_minor": 0
}
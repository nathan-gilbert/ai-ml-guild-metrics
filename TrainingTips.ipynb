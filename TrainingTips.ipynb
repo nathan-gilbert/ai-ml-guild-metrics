{
 "cells": [
  {
   "cell_type": "markdown",
   "metadata": {
    "pycharm": {
     "name": "#%% md\n"
    }
   },
   "source": [
    "# Data Set Curation\n",
    "\n",
    "In data science, your model will only be as good as your data. You often don't have as much data as you'd like to have.\n",
    "The following are standard practices and techniques to do more with less, or at least better organize your data to ensure your model\n",
    "best reflects the real world phenomena you're attempting to model.\n",
    "\n",
    "## Train, Test and Tuning"
   ]
  },
  {
   "cell_type": "code",
   "execution_count": null,
   "metadata": {
    "pycharm": {
     "name": "#%%\n"
    }
   },
   "outputs": [],
   "source": [
    "import numpy as np\n",
    "from sklearn.model_selection import train_test_split\n",
    "\n",
    "# 12 data points of values 1 to 25\n",
    "X = np.arange(1, 25).reshape(12, 2)\n",
    "# totally made up labels\n",
    "Y = np.array([0, 1, 1, 0, 1, 0, 0, 1, 1, 0, 1, 0])\n",
    "\n",
    "x_train, x_test, y_train, y_test = train_test_split(X, Y)\n",
    "\n",
    "print(x_train)\n",
    "print(len(x_train))\n",
    "print()\n",
    "print(x_test)\n",
    "print(len(x_test))"
   ]
  },
  {
   "cell_type": "markdown",
   "metadata": {
    "pycharm": {
     "name": "#%% md\n"
    }
   },
   "source": [
    "Some options that come in handy...\n",
    "    - _test_size_: how much of the data is used in testing (training set because 1 - test_size)\n",
    "    - _random_: set a different random seed\n",
    "    - _stratify_: useful if you have an imbalanced data set, keeps the values of y approximately equal in proportion between test\n",
    "     train sets"
   ]
  },
  {
   "cell_type": "code",
   "execution_count": null,
   "metadata": {
    "pycharm": {
     "name": "#%%\n"
    }
   },
   "outputs": [],
   "source": [
    "x_train, x_test, y_train, y_test = train_test_split(X, Y, test_size=0.33, random_state=4, stratify=Y)\n",
    "print(x_train)\n",
    "print(len(x_train))\n",
    "print()\n",
    "print(x_test)\n",
    "print(len(x_test))"
   ]
  },
  {
   "cell_type": "markdown",
   "metadata": {
    "pycharm": {
     "name": "#%% md\n"
    }
   },
   "source": [
    "If you want to generate a validation set, just run train_test_split twice!\n",
    "This means:\n",
    "    - x_train = 70% of the data\n",
    "    - x_val = 15% of the data\n",
    "    - x_test = 15% of the data"
   ]
  },
  {
   "cell_type": "code",
   "execution_count": null,
   "metadata": {
    "pycharm": {
     "name": "#%%\n"
    }
   },
   "outputs": [],
   "source": [
    "x_test, x_val, y_test, y_val = train_test_split(x_test, y_test, test_size=0.5, random_state=4, stratify=y_test)\n",
    "print(x_train)\n",
    "print(len(x_train))\n",
    "print()\n",
    "print(x_val)\n",
    "print(len(x_val))\n",
    "print()\n",
    "print(x_test)\n",
    "print(len(x_test))"
   ]
  },
  {
   "cell_type": "markdown",
   "metadata": {
    "pycharm": {
     "name": "#%% md\n"
    }
   },
   "source": [
    "## Cross Validation\n",
    "\n",
    "Another was to utilize your data set is to use Cross Validation. In this setup you use the entire labeled set, divide it into\n",
    "train and test splits K times.\n",
    "\n",
    "The KFold method will take a list and then return K lists of indices into that list representing the K test/train splits."
   ]
  },
  {
   "cell_type": "code",
   "execution_count": null,
   "metadata": {
    "pycharm": {
     "name": "#%%\n"
    }
   },
   "outputs": [],
   "source": [
    "from sklearn.model_selection import KFold\n",
    "kf5 = KFold(n_splits=5, shuffle=False)\n",
    "\n",
    "fold = 1\n",
    "for train_index, test_index in kf5.split(X):\n",
    "    print(f\"Fold {fold}: \\n\\ttest indices: {train_index} \\n\\ttrain indices: {test_index}\")"
   ]
  }
 ],
 "metadata": {
  "kernelspec": {
   "display_name": "Python 3 (ipykernel)",
   "language": "python",
   "name": "python3"
  },
  "language_info": {
   "codemirror_mode": {
    "name": "ipython",
    "version": 3
   },
   "file_extension": ".py",
   "mimetype": "text/x-python",
   "name": "python",
   "nbconvert_exporter": "python",
   "pygments_lexer": "ipython3",
   "version": "3.9.10"
  }
 },
 "nbformat": 4,
 "nbformat_minor": 1
}
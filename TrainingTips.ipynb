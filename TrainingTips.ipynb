{
 "cells": [
  {
   "cell_type": "markdown",
   "source": [
    "# Data Set Curation\n",
    "\n",
    "In data science, your model will only be as good as your data. You often don't have as much data as you'd like to have.\n",
    "The following are standard practices and techniques to do more with less, or at least better organize your data to ensure your model\n",
    "best reflects the real world phenomena you're attempting to model.\n",
    "\n",
    "## Train, Test and Tuning"
   ],
   "metadata": {
    "collapsed": false,
    "pycharm": {
     "name": "#%% md\n"
    }
   }
  },
  {
   "cell_type": "code",
   "execution_count": 13,
   "outputs": [
    {
     "name": "stdout",
     "output_type": "stream",
     "text": [
      "[[17 18]\n",
      " [ 7  8]\n",
      " [ 3  4]\n",
      " [ 5  6]\n",
      " [13 14]\n",
      " [ 9 10]\n",
      " [11 12]\n",
      " [21 22]\n",
      " [23 24]]\n",
      "9\n",
      "\n",
      "[[15 16]\n",
      " [ 1  2]\n",
      " [19 20]]\n",
      "3\n"
     ]
    }
   ],
   "source": [
    "import numpy as np\n",
    "from sklearn.model_selection import train_test_split\n",
    "\n",
    "# 12 data points of values 1 to 25\n",
    "x = np.arange(1, 25).reshape(12, 2)\n",
    "# totally made up labels\n",
    "y = np.array([0, 1, 1, 0, 1, 0, 0, 1, 1, 0, 1, 0])\n",
    "\n",
    "x_train, x_test, y_train, y_test = train_test_split(x, y)\n",
    "\n",
    "print(x_train)\n",
    "print(len(x_train))\n",
    "print()\n",
    "print(x_test)\n",
    "print(len(x_test))"
   ],
   "metadata": {
    "collapsed": false,
    "pycharm": {
     "name": "#%%\n"
    }
   }
  },
  {
   "cell_type": "markdown",
   "source": [
    "Some options that come in handy...\n",
    "    - _test_size_: how much of the data is used in testing (training set because 1 - test_size)\n",
    "    - _random_: set a different random seed\n",
    "    - _stratify_: useful if you have an imbalanced data set, keeps the values of y approximately equal in proportion between test\n",
    "     train sets"
   ],
   "metadata": {
    "collapsed": false,
    "pycharm": {
     "name": "#%% md\n"
    }
   }
  },
  {
   "cell_type": "code",
   "execution_count": 14,
   "outputs": [
    {
     "name": "stdout",
     "output_type": "stream",
     "text": [
      "[[21 22]\n",
      " [ 1  2]\n",
      " [15 16]\n",
      " [13 14]\n",
      " [17 18]\n",
      " [19 20]\n",
      " [23 24]\n",
      " [ 3  4]]\n",
      "8\n",
      "\n",
      "[[11 12]\n",
      " [ 7  8]\n",
      " [ 5  6]\n",
      " [ 9 10]]\n",
      "4\n"
     ]
    }
   ],
   "source": [
    "x_train, x_test, y_train, y_test = train_test_split(x, y, test_size=0.33, random_state=4, stratify=y)\n",
    "print(x_train)\n",
    "print(len(x_train))\n",
    "print()\n",
    "print(x_test)\n",
    "print(len(x_test))"
   ],
   "metadata": {
    "collapsed": false,
    "pycharm": {
     "name": "#%%\n"
    }
   }
  },
  {
   "cell_type": "markdown",
   "source": [
    "If you want to generate a validation set, just run train_test_split twice!\n",
    "This means:\n",
    "    - x_train = 70% of the data\n",
    "    - x_val = 15% of the data\n",
    "    - x_test = 15% of the data"
   ],
   "metadata": {
    "collapsed": false,
    "pycharm": {
     "name": "#%% md\n"
    }
   }
  },
  {
   "cell_type": "code",
   "execution_count": 15,
   "outputs": [
    {
     "name": "stdout",
     "output_type": "stream",
     "text": [
      "[[21 22]\n",
      " [ 1  2]\n",
      " [15 16]\n",
      " [13 14]\n",
      " [17 18]\n",
      " [19 20]\n",
      " [23 24]\n",
      " [ 3  4]]\n",
      "8\n",
      "\n",
      "[[11 12]\n",
      " [ 7  8]]\n",
      "2\n",
      "\n",
      "[[ 9 10]\n",
      " [ 5  6]]\n",
      "2\n"
     ]
    }
   ],
   "source": [
    "x_test, x_val, y_test, y_val = train_test_split(x_test, y_test, test_size=0.5, random_state=4, stratify=y)\n",
    "print(x_train)\n",
    "print(len(x_train))\n",
    "print()\n",
    "print(x_val)\n",
    "print(len(x_val))\n",
    "print()\n",
    "print(x_test)\n",
    "print(len(x_test))"
   ],
   "metadata": {
    "collapsed": false,
    "pycharm": {
     "name": "#%%\n"
    }
   }
  },
  {
   "cell_type": "markdown",
   "source": [
    "## Cross Validation"
   ],
   "metadata": {
    "collapsed": false
   }
  }
 ],
 "metadata": {
  "kernelspec": {
   "display_name": "Python 3",
   "language": "python",
   "name": "python3"
  },
  "language_info": {
   "codemirror_mode": {
    "name": "ipython",
    "version": 2
   },
   "file_extension": ".py",
   "mimetype": "text/x-python",
   "name": "python",
   "nbconvert_exporter": "python",
   "pygments_lexer": "ipython2",
   "version": "2.7.6"
  }
 },
 "nbformat": 4,
 "nbformat_minor": 0
}